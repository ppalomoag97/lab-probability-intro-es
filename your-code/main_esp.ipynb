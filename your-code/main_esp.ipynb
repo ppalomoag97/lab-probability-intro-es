{
 "cells": [
  {
   "cell_type": "markdown",
   "metadata": {},
   "source": [
    "# Probability"
   ]
  },
  {
   "cell_type": "markdown",
   "metadata": {},
   "source": [
    "## Reto 1\n",
    "Hay una caja con 10 bolas blancas, 12 bolas rojas y 8 bolas negras. Calcula la probabilidad de:\n",
    "* Sacar una bola blanca.\n",
    "* Sacar una bola blanca en la primera extracción y una bola negra en la segunda extracción sin reemplazar la primera.\n",
    "* Sacar una bola blanca en la primera extracción y una bola negra en la segunda extracción reemplazando la primera.\n",
    "* Sacar 3 bolas y que sean todas de diferentes colores."
   ]
  },
  {
   "cell_type": "code",
   "execution_count": 11,
   "metadata": {},
   "outputs": [
    {
     "name": "stdout",
     "output_type": "stream",
     "text": [
      "La probabilidad de sacar una bola blanca es: 0.3333333333333333\n"
     ]
    }
   ],
   "source": [
    "p_1= 10/(10+12+8)\n",
    "print(f\"La probabilidad de sacar una bola blanca es: {p_1}\")"
   ]
  },
  {
   "cell_type": "markdown",
   "metadata": {},
   "source": [
    "**************************************************************"
   ]
  },
  {
   "cell_type": "markdown",
   "metadata": {},
   "source": [
    "##### Probabilidad conjunta de dos eventos dependientes:\n",
    "$$\n",
    "P(B_1 \\cap N_2) = P(B_1) \\times P(N_2 \\mid B_1)\n",
    "$$"
   ]
  },
  {
   "cell_type": "code",
   "execution_count": 12,
   "metadata": {},
   "outputs": [
    {
     "name": "stdout",
     "output_type": "stream",
     "text": [
      "La probabilidad de sacar una bola blanca en la primera extracción y una bola negra en la segunda extracción sin reemplazar la primera: 0.09195402298850575\n"
     ]
    }
   ],
   "source": [
    "p_2= (10/(10+12+8))*(8/(9+12+8))\n",
    "print(f\"La probabilidad de sacar una bola blanca en la primera extracción y una bola negra en la segunda extracción sin reemplazar la primera: {p_2}\")"
   ]
  },
  {
   "cell_type": "markdown",
   "metadata": {},
   "source": [
    "**************************************************************"
   ]
  },
  {
   "cell_type": "markdown",
   "metadata": {},
   "source": [
    "##### Probabilidad conjunta de dos eventos independientes:\n",
    "$$\n",
    "P(B \n",
    "1\n",
    "​\n",
    " ∩N \n",
    "2\n",
    "​\n",
    " )=P(B \n",
    "1\n",
    "​\n",
    " )×P(N \n",
    "2\n",
    "​\n",
    " )\n",
    "$$"
   ]
  },
  {
   "cell_type": "code",
   "execution_count": 13,
   "metadata": {},
   "outputs": [
    {
     "name": "stdout",
     "output_type": "stream",
     "text": [
      "La probabilidad de sacar una bola blanca en la primera extracción y una bola negra en la segunda extracción reemplazando la primera: 0.08888888888888888\n"
     ]
    }
   ],
   "source": [
    "p_3= (10/(10+12+8))*(8/(10+12+8))\n",
    "print(f\"La probabilidad de sacar una bola blanca en la primera extracción y una bola negra en la segunda extracción reemplazando la primera: {p_3}\")"
   ]
  },
  {
   "cell_type": "markdown",
   "metadata": {},
   "source": [
    "**************************************************************"
   ]
  },
  {
   "cell_type": "markdown",
   "metadata": {},
   "source": [
    "##### Probabilidad de una permutación\n",
    "$$\n",
    "N*\n",
    "P(B \n",
    "1\n",
    "​\n",
    " ∩R \n",
    "2\n",
    "​\n",
    " ∩N \n",
    "3\n",
    "​\n",
    " )\n",
    " $$\n",
    " $$\n",
    "N = N / (N-n)\n",
    " $$"
   ]
  },
  {
   "cell_type": "code",
   "execution_count": 14,
   "metadata": {},
   "outputs": [
    {
     "name": "stdout",
     "output_type": "stream",
     "text": [
      "La probabilidad de sacar 3 bolas y que sean todas de diferentes colores.: 0.21333333333333332\n"
     ]
    }
   ],
   "source": [
    "p_4= 6*((10/(10+12+8))*(12/(10+12+8))*(8/(10+12+8)))\n",
    "print(f\"La probabilidad de sacar 3 bolas y que sean todas de diferentes colores.: {p_4}\")"
   ]
  },
  {
   "cell_type": "markdown",
   "metadata": {},
   "source": [
    "## Reto 2\n",
    "\n",
    "Quieres ir de picnic el sábado. Odias la lluvia y quieres planificar tu fin de semana. Para ayudarte a tomar una decisión, recopilas los siguientes datos sobre los días lluviosos:\n",
    "\n",
    "* El 40% de todos los días están nublados.\n",
    "* Aproximadamente el 50% de los días nublados son lluviosos.\n",
    "* Aproximadamente el 20% de los días no nublados son lluviosos.\n",
    "\n",
    "¿Cuál es la probabilidad de que llueva el próximo sábado?"
   ]
  },
  {
   "cell_type": "markdown",
   "metadata": {},
   "source": [
    "##### Probabilidad condicional\n",
    "$$\n",
    "P(A∩B)=P(A)×P(B∣A)\n",
    "$$"
   ]
  },
  {
   "cell_type": "markdown",
   "metadata": {},
   "source": [
    "##### Aplicando la fórmula al ejemplo\n",
    "$$ P(L)=P(L∣N)P(N)+P(L∣¬N)P(¬N) $$"
   ]
  },
  {
   "cell_type": "markdown",
   "metadata": {},
   "source": [
    "#La probabilidad que llueva P(L) sería la suma de la probabilidad que llueva un día nublado P(L∣N) multiplicado por la probabilidad de que un día sea nublado P(N) más la probabilidad de que llueva un día no nubladoP(L∣¬N) multuplicado por la porbabilidad de que un día sea no nublado P(¬N)."
   ]
  },
  {
   "cell_type": "code",
   "execution_count": 16,
   "metadata": {},
   "outputs": [
    {
     "name": "stdout",
     "output_type": "stream",
     "text": [
      "La probabilidad de que llueva el próximo sábado: 0.32\n"
     ]
    }
   ],
   "source": [
    "p_lluvia=(0.5*0.4)+(0.20*0.6)\n",
    "print(f\"La probabilidad de que llueva el próximo sábado: {p_lluvia}\")"
   ]
  },
  {
   "cell_type": "markdown",
   "metadata": {},
   "source": [
    "## Reto 3\n",
    "\n",
    "A y B son eventos de una probabilidad tal que \\(P(A) = 0.3\\), \\(P(B) = 0.6\\) y \\(P(A \\cap B) = 0.1\\)\n",
    "\n",
    "¿Cuáles de las siguientes afirmaciones son verdaderas?\n",
    "**SUGERENCIA: dibuja un gran diagrama de Venn a tu lado**\n",
    "\n",
    "(P(\\overline{A}) = 0.7\\)\n",
    "(P(A \\cup B) = 0.6\\)\n",
    "(P(A \\cap \\overline{B}) = 0.2\\)\n",
    "(P(A \\cup \\overline{A}) = 1\\)\n",
    "(P(A \\cap (B \\cup \\overline{B})) = 0.4\\)\n",
    "(P(\\overline{A} \\cap \\overline{B}) = 0.3\\)\n"
   ]
  },
  {
   "cell_type": "markdown",
   "metadata": {},
   "source": [
    "$$(P(\\overline{A}) = 0.7\\)$$"
   ]
  },
  {
   "cell_type": "markdown",
   "metadata": {},
   "source": [
    "La probabilidad del complemento de \n",
    "𝐴 es:\n",
    "\n",
    "P( A )= 1−P(A)=1−0.3=0.7\n",
    "\n",
    "Esta afirmación es verdadera."
   ]
  },
  {
   "cell_type": "markdown",
   "metadata": {},
   "source": [
    "$$(P(A \\cup B) = 0.6\\)$$"
   ]
  },
  {
   "cell_type": "markdown",
   "metadata": {},
   "source": [
    "La probabilidad de la unión de \n",
    "𝐴\n",
    "A y \n",
    "𝐵\n",
    "B se calcula usando la fórmula de la probabilidad de la unión:\n",
    "P(A∪B)=P(A)+P(B)−P(A∩B)\n",
    "P(A∪B)=0.3+0.6−0.1=0.8\n",
    "\n",
    "Esta afirmación es falsa."
   ]
  },
  {
   "cell_type": "markdown",
   "metadata": {},
   "source": [
    "$$ (P(A \\cap \\overline{B}) = 0.2\\) $$"
   ]
  },
  {
   "cell_type": "markdown",
   "metadata": {},
   "source": [
    "La probabilidad de la intersección de A con el complemento de B se calcula como:\n",
    "P(A∩ B )=P(A)−P(A∩B)\n",
    "P(A∩ B)=0.3−0.1=0.2\n",
    "\n",
    "Esta afirmación es verdadera."
   ]
  },
  {
   "cell_type": "markdown",
   "metadata": {},
   "source": [
    "$$ (P(A \\cup \\overline{A}) = 1\\) $$"
   ]
  },
  {
   "cell_type": "markdown",
   "metadata": {},
   "source": [
    "a unión de un evento con su complemento cubre todo el espacio muestral, por lo que:\n",
    "\n",
    "𝑃(𝐴∪𝐴)=1\n",
    "P(A∪ A )=1\n",
    "\n",
    "Esta afirmación es verdadera."
   ]
  },
  {
   "cell_type": "markdown",
   "metadata": {},
   "source": [
    "$$(P(A \\cap (B \\cup \\overline{B})) = 0.4\\$$"
   ]
  },
  {
   "cell_type": "markdown",
   "metadata": {},
   "source": [
    "P(A∩(B∪ B ))=P(A∩S)=P(A)\n",
    "\n",
    "P(A∩(B∪ B))=P(A)=0.3\n",
    "\n",
    "Esta afirmación es falsa."
   ]
  },
  {
   "cell_type": "markdown",
   "metadata": {},
   "source": [
    "$$ (P(\\overline{A} \\cap \\overline{B}) = 0.3\\) $$"
   ]
  },
  {
   "cell_type": "markdown",
   "metadata": {},
   "source": [
    "La probabilidad de la intersección de los complementos se calcula usando la fórmula de De Morgan:\n",
    "\n",
    "𝑃(𝐴∩𝐵)=𝑃(𝐴∪𝐵)=1−𝑃(𝐴∪𝐵)\n",
    "\n",
    "𝑃(𝐴∩𝐵)=1−0.8=0.2\n",
    "\n",
    "Esta afirmación es falsa."
   ]
  },
  {
   "cell_type": "markdown",
   "metadata": {},
   "source": [
    "$$(P(\\overline{A \\cap B}) = 0.9\\)$$"
   ]
  },
  {
   "cell_type": "markdown",
   "metadata": {},
   "source": [
    "La probabilidad del complemento de la intersección es:\n",
    "\n",
    "𝑃(𝐴∩𝐵)=1−𝑃(𝐴∩𝐵)\n",
    "\n",
    "𝑃(𝐴∩𝐵)=1−0.1=0.9\n",
    "\n",
    "Esta afirmación es verdadera."
   ]
  },
  {
   "cell_type": "markdown",
   "metadata": {},
   "source": [
    "## Reto 4\n",
    "\n",
    "* Si alguien viaja a China, la probabilidad de contraer Covid es del 1%\n",
    "* Si alguien viaja a Italia, la probabilidad de contraer Covid es del 20%\n",
    "\n",
    "Lanzo un dado con números 1, 2, 3, 4, 5, 6:\n",
    "* Si sale 1: Vuelo a Italia\n",
    "* Si no sale 1: Vuelo a China\n",
    "\n",
    "Durante mi viaje, contraje Covid. ¿Cuál es la probabilidad de que haya volado a China?"
   ]
  },
  {
   "cell_type": "markdown",
   "metadata": {},
   "source": [
    "Para el cálculo necesitamos la fórmula del teorema de Bayes, que nos ayudará a encontrar la probabilidad de volar a china habiendo contraido el covid. \n",
    "##### Teorema de Bayes\n",
    "\n",
    "P(CH∣C)= \n",
    "P(C∣CH)⋅P(CH)\n",
    "/\n",
    "P(C)\n",
    "​\n",
    "\n",
    " La fórmula nos dice que para obtener el resultado tendremos que calcular la pobabilidad de contraer el covid habiendo volado a china multiplicado por la probabilidad de volar a china, dividido entre la probabilidad de contraer el covid.\n",
    " Por eso primero calculamos la probabilidad de contraer el covid con la fórmula de probabilidad total:\n",
    " \n",
    "##### Probabilidad total\n",
    "P(C)=P(C∣I)⋅P(I)+P(C∣CH)⋅P(CH)\n",
    "\n",
    "\n"
   ]
  },
  {
   "cell_type": "code",
   "execution_count": 17,
   "metadata": {},
   "outputs": [
    {
     "name": "stdout",
     "output_type": "stream",
     "text": [
      "La probabilidad de contrar el covid P(C)= 0.041666666666666664\n"
     ]
    }
   ],
   "source": [
    "prob_covid = (0.01*5/6)+(0.2*1/6)\n",
    "print(f\"La probabilidad de contrar el covid P(C)= {prob_covid}\")"
   ]
  },
  {
   "cell_type": "code",
   "execution_count": 18,
   "metadata": {},
   "outputs": [
    {
     "name": "stdout",
     "output_type": "stream",
     "text": [
      "La probabilidad de volar a china habiendo contraido el covid P(CH|C) = 0.2\n"
     ]
    }
   ],
   "source": [
    "prob_china_covid= (0.01*5/6)/(prob_covid)\n",
    "print(f\"La probabilidad de volar a china habiendo contraido el covid P(CH|C) = {prob_china_covid}\")"
   ]
  },
  {
   "cell_type": "markdown",
   "metadata": {},
   "source": [
    "## BONUS\n",
    "\n",
    "Lanzas 2 dados. ¿Cuál es la probabilidad de que la suma de los números sea 7? ¿Y 8? ¿Y 9? Luego simula 10000 veces y dibuja un gráfico de conteo.\n",
    "\n",
    "tu explicación aquí"
   ]
  },
  {
   "cell_type": "code",
   "execution_count": 19,
   "metadata": {},
   "outputs": [],
   "source": [
    "# YOUR CODE HERE"
   ]
  }
 ],
 "metadata": {
  "kernelspec": {
   "display_name": "Python 3 (ipykernel)",
   "language": "python",
   "name": "python3"
  },
  "language_info": {
   "codemirror_mode": {
    "name": "ipython",
    "version": 3
   },
   "file_extension": ".py",
   "mimetype": "text/x-python",
   "name": "python",
   "nbconvert_exporter": "python",
   "pygments_lexer": "ipython3",
   "version": "3.10.12"
  },
  "toc": {
   "base_numbering": 1,
   "nav_menu": {},
   "number_sections": false,
   "sideBar": true,
   "skip_h1_title": false,
   "title_cell": "Table of Contents",
   "title_sidebar": "Contents",
   "toc_cell": false,
   "toc_position": {
    "height": "calc(100% - 180px)",
    "left": "10px",
    "top": "150px",
    "width": "296.475px"
   },
   "toc_section_display": true,
   "toc_window_display": false
  },
  "varInspector": {
   "cols": {
    "lenName": 16,
    "lenType": 16,
    "lenVar": 40
   },
   "kernels_config": {
    "python": {
     "delete_cmd_postfix": "",
     "delete_cmd_prefix": "del ",
     "library": "var_list.py",
     "varRefreshCmd": "print(var_dic_list())"
    },
    "r": {
     "delete_cmd_postfix": ") ",
     "delete_cmd_prefix": "rm(",
     "library": "var_list.r",
     "varRefreshCmd": "cat(var_dic_list()) "
    }
   },
   "types_to_exclude": [
    "module",
    "function",
    "builtin_function_or_method",
    "instance",
    "_Feature"
   ],
   "window_display": false
  }
 },
 "nbformat": 4,
 "nbformat_minor": 4
}
